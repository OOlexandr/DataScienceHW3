{
 "cells": [
  {
   "cell_type": "code",
   "execution_count": 10,
   "metadata": {},
   "outputs": [],
   "source": [
    "import pandas as pd\n",
    "import numpy as np\n",
    "\n",
    "def linear_regression(x: np.array, w: np.array):\n",
    "    return np.dot(x, w)"
   ]
  },
  {
   "cell_type": "code",
   "execution_count": 61,
   "metadata": {},
   "outputs": [],
   "source": [
    "def cost(X: np.array, w: np.array, y: np.array):\n",
    "    return np.dot(X.transponse(), (np.dot(X, w) - y)) / len(y)"
   ]
  },
  {
   "cell_type": "code",
   "execution_count": 115,
   "metadata": {},
   "outputs": [],
   "source": [
    "def gradient(X, w, y, a):\n",
    "    return w - (cost(X, w, y) * a)"
   ]
  },
  {
   "cell_type": "code",
   "execution_count": 214,
   "metadata": {},
   "outputs": [],
   "source": [
    "#preparing data\n",
    "df = pd.read_csv(\"Housing.csv\")\n",
    "y = df[\"price\"].to_numpy()\n",
    "X = df[[\"area\", \"bathrooms\", \"bedrooms\"]].to_numpy()\n",
    "ones = np.ones(len(y))[:, np.newaxis]\n",
    "X = np.concatenate((np.ones(len(y), dtype=int)[:, np.newaxis], X), axis=1)\n",
    "X = X.astype(float)\n",
    "w = np.random.randn(4)\n",
    "a = 1"
   ]
  },
  {
   "cell_type": "code",
   "execution_count": 215,
   "metadata": {},
   "outputs": [
    {
     "name": "stdout",
     "output_type": "stream",
     "text": [
      "[[ 1.          0.15597654  0.23792049  0.20697248]\n",
      " [ 1.          0.26181847  0.90458716  0.20697248]\n",
      " [ 1.          0.33054699  0.23792049  0.00697248]\n",
      " ...\n",
      " [ 1.         -0.10519184 -0.09541284 -0.19302752]\n",
      " [ 1.         -0.15398909 -0.09541284  0.00697248]\n",
      " [ 1.         -0.08938428 -0.09541284  0.00697248]]\n"
     ]
    }
   ],
   "source": [
    "#normalizing\n",
    "n = X.mean(axis=0)\n",
    "s = X.max(axis=0) - X.min(axis=0)\n",
    "for i in range(1, 4):\n",
    "    new_x = (X[:, i] - n[i]) / s[i]\n",
    "    X[:, i] = new_x\n",
    "print(X)"
   ]
  },
  {
   "cell_type": "code",
   "execution_count": 203,
   "metadata": {},
   "outputs": [
    {
     "name": "stdout",
     "output_type": "stream",
     "text": [
      "-0.8389019975235273\n",
      "[-4766730.39614801  -149256.63114676  -161838.9145446   -101003.61086865]\n",
      "[4766729.24770642  149257.31577416  161840.03581703  101003.30155262]\n"
     ]
    }
   ],
   "source": [
    "#testing\n",
    "print(linear_regression(X[0], w))\n",
    "print(cost(X, w, y))\n",
    "print(gradient(X, w, y, a))"
   ]
  },
  {
   "cell_type": "code",
   "execution_count": 218,
   "metadata": {},
   "outputs": [
    {
     "name": "stdout",
     "output_type": "stream",
     "text": [
      "[4766729.24770642 5510998.06466328 4158148.49337298 2034100.16884592]\n"
     ]
    }
   ],
   "source": [
    "#learning\n",
    "w_prev = [0, 0, 0, 0]\n",
    "while not(w==w_prev).all():\n",
    "    w_prev = w\n",
    "    w = gradient(X, w, y, a)\n",
    "print(w)\n",
    "# [4766729.24770642 5510998.06466328 4158148.49337298 2034100.16884592]"
   ]
  },
  {
   "cell_type": "code",
   "execution_count": 217,
   "metadata": {},
   "outputs": [
    {
     "name": "stdout",
     "output_type": "stream",
     "text": [
      "[4766729.24770642 5510998.06466326 4158148.49337299 2034100.1688459 ]\n"
     ]
    }
   ],
   "source": [
    "#finding the weights analiticaly\n",
    "w_an = np.dot(np.dot(np.linalg.inv(np.dot(X.transpose(), X)), X.transpose()), y)\n",
    "print(w_an)\n",
    "# [4766729.24770642 5510998.06466326 4158148.49337299 2034100.1688459]"
   ]
  },
  {
   "cell_type": "code",
   "execution_count": 219,
   "metadata": {},
   "outputs": [
    {
     "name": "stdout",
     "output_type": "stream",
     "text": [
      "[ 0.00000000e+00  1.85892795e-13 -2.68770365e-13  8.01245942e-13]\n"
     ]
    }
   ],
   "source": [
    "#comapring\n",
    "diff = (w - w_an) / w * 100\n",
    "print(diff)\n",
    "# [ 0.00000000e+00  1.85892795e-13 -2.68770365e-13  8.01245942e-13]\n",
    "# I think this is acurate enough"
   ]
  }
 ],
 "metadata": {
  "kernelspec": {
   "display_name": "Python 3",
   "language": "python",
   "name": "python3"
  },
  "language_info": {
   "codemirror_mode": {
    "name": "ipython",
    "version": 3
   },
   "file_extension": ".py",
   "mimetype": "text/x-python",
   "name": "python",
   "nbconvert_exporter": "python",
   "pygments_lexer": "ipython3",
   "version": "3.11.1"
  },
  "orig_nbformat": 4
 },
 "nbformat": 4,
 "nbformat_minor": 2
}
